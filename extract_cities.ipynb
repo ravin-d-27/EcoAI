{
 "cells": [
  {
   "cell_type": "code",
   "execution_count": 21,
   "metadata": {},
   "outputs": [],
   "source": [
    "lst = []\n",
    "import csv\n",
    "header = ['ids']\n",
    "file = open('predictions_som.csv', 'r+') \n",
    "with file:     \n",
    "    reader = csv.reader(file) \n",
    "    for row in reader:\n",
    "        lst.append(row[0])"
   ]
  },
  {
   "cell_type": "code",
   "execution_count": 22,
   "metadata": {},
   "outputs": [],
   "source": [
    "lst = lst[1:]\n",
    "final = []\n",
    "for i in lst:\n",
    "    final.append(int(i))"
   ]
  },
  {
   "cell_type": "code",
   "execution_count": 23,
   "metadata": {},
   "outputs": [
    {
     "data": {
      "text/plain": [
       "[19588,\n",
       " 19600,\n",
       " 19601,\n",
       " 19602,\n",
       " 19605,\n",
       " 19606,\n",
       " 19608,\n",
       " 19613,\n",
       " 19614,\n",
       " 19615,\n",
       " 19616,\n",
       " 19617,\n",
       " 19618,\n",
       " 19619,\n",
       " 19620,\n",
       " 19621,\n",
       " 19622,\n",
       " 19623,\n",
       " 19624,\n",
       " 19625,\n",
       " 19626,\n",
       " 19627,\n",
       " 19628,\n",
       " 19629,\n",
       " 19630,\n",
       " 19631,\n",
       " 19632,\n",
       " 19633,\n",
       " 19634,\n",
       " 19635,\n",
       " 19636,\n",
       " 19638,\n",
       " 19639,\n",
       " 19641,\n",
       " 19645,\n",
       " 19646,\n",
       " 19651,\n",
       " 19652,\n",
       " 19653,\n",
       " 19654,\n",
       " 19655,\n",
       " 19656,\n",
       " 19657,\n",
       " 19659,\n",
       " 19660,\n",
       " 19661,\n",
       " 19662,\n",
       " 19663,\n",
       " 19664,\n",
       " 19666,\n",
       " 19667,\n",
       " 19668,\n",
       " 19669,\n",
       " 19670,\n",
       " 19671,\n",
       " 19672,\n",
       " 19674,\n",
       " 19675,\n",
       " 19676,\n",
       " 19677,\n",
       " 19678,\n",
       " 19679,\n",
       " 19680,\n",
       " 19681,\n",
       " 19683,\n",
       " 19684,\n",
       " 19685,\n",
       " 19686,\n",
       " 19687,\n",
       " 19688,\n",
       " 19689,\n",
       " 19690,\n",
       " 19693,\n",
       " 19694,\n",
       " 19695,\n",
       " 19696,\n",
       " 19697,\n",
       " 19698,\n",
       " 19699,\n",
       " 19700,\n",
       " 19701,\n",
       " 19703,\n",
       " 19704,\n",
       " 19705,\n",
       " 19706,\n",
       " 19707,\n",
       " 19708,\n",
       " 19709,\n",
       " 19710,\n",
       " 19714,\n",
       " 19715,\n",
       " 19717,\n",
       " 19723,\n",
       " 28671,\n",
       " 3940,\n",
       " 7677,\n",
       " 7679,\n",
       " 7682,\n",
       " 7725,\n",
       " 7727,\n",
       " 7728,\n",
       " 7729,\n",
       " 7782,\n",
       " 7785,\n",
       " 7787,\n",
       " 7790,\n",
       " 7799,\n",
       " 7811,\n",
       " 7813,\n",
       " 7821,\n",
       " 7821,\n",
       " 7823,\n",
       " 7827,\n",
       " 7829,\n",
       " 7830,\n",
       " 7831,\n",
       " 7832]"
      ]
     },
     "execution_count": 23,
     "metadata": {},
     "output_type": "execute_result"
    }
   ],
   "source": [
    "final"
   ]
  },
  {
   "cell_type": "code",
   "execution_count": 27,
   "metadata": {},
   "outputs": [],
   "source": [
    "import pandas as pd\n",
    "lst = ['Hyderabad', 'Delhi', 'Visakhapatnam', 'Amaravati', 'Amritsar',\n",
    "'Kolkata', 'Chandigarh', 'Patna', 'Gurugram']\n",
    "dataset = pd.read_csv('preprocessed_data.csv')\n",
    "xyz=[]\n",
    "for i in range(0,len(final)):\n",
    "    d = dataset.loc[dataset['Number'] == final[i]]\n",
    "    xyz.append(d[\"City\"].values)\n",
    "l = []\n",
    "for i in range(len(final)):\n",
    "    l.append(lst[xyz[i][0]])\n",
    "newl = []\n",
    "for i in l:\n",
    "    if i in newl:\n",
    "        pass\n",
    "    else:\n",
    "        newl.append(i)\n"
   ]
  },
  {
   "cell_type": "code",
   "execution_count": 28,
   "metadata": {},
   "outputs": [
    {
     "data": {
      "text/plain": [
       "['Kolkata', 'Visakhapatnam', 'Amritsar', 'Chandigarh']"
      ]
     },
     "execution_count": 28,
     "metadata": {},
     "output_type": "execute_result"
    }
   ],
   "source": [
    "newl"
   ]
  },
  {
   "cell_type": "code",
   "execution_count": 36,
   "metadata": {},
   "outputs": [],
   "source": [
    "d2 = dataset.loc[dataset['City'] == 5]\n",
    "d3 = dataset.loc[dataset['City'] == 2]\n",
    "d4 = dataset.loc[dataset['City'] == 4]\n",
    "d5 = dataset.loc[dataset['City'] == 6]"
   ]
  },
  {
   "cell_type": "code",
   "execution_count": 37,
   "metadata": {},
   "outputs": [
    {
     "name": "stdout",
     "output_type": "stream",
     "text": [
      "Kolkata:  113.97969543147208\n",
      "Visakhapatnam:  116.95402298850574\n",
      "Amritsar:  129.16981132075472\n",
      "Chandigarh:  93.2418772563177\n"
     ]
    }
   ],
   "source": [
    "print(\"Kolkata: \",d2[\"AQI\"].mean())\n",
    "print(\"Visakhapatnam: \",d3[\"AQI\"].mean())\n",
    "print(\"Amritsar: \",d4[\"AQI\"].mean())\n",
    "print(\"Chandigarh: \",d5[\"AQI\"].mean())"
   ]
  },
  {
   "cell_type": "code",
   "execution_count": null,
   "metadata": {},
   "outputs": [],
   "source": []
  }
 ],
 "metadata": {
  "kernelspec": {
   "display_name": "Python 3",
   "language": "python",
   "name": "python3"
  },
  "language_info": {
   "codemirror_mode": {
    "name": "ipython",
    "version": 3
   },
   "file_extension": ".py",
   "mimetype": "text/x-python",
   "name": "python",
   "nbconvert_exporter": "python",
   "pygments_lexer": "ipython3",
   "version": "3.9.8"
  },
  "orig_nbformat": 4,
  "vscode": {
   "interpreter": {
    "hash": "9f21f1895792ccd6804a693f800a8ad892523c966fb0e2796cb78cf8e3c2fca3"
   }
  }
 },
 "nbformat": 4,
 "nbformat_minor": 2
}
