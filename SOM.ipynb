{
 "cells": [
  {
   "cell_type": "code",
   "execution_count": 29,
   "metadata": {},
   "outputs": [
    {
     "name": "stdout",
     "output_type": "stream",
     "text": [
      "Requirement already satisfied: MiniSom in c:\\users\\zalph\\appdata\\local\\programs\\python\\python39\\lib\\site-packages (2.3.0)\n",
      "Note: you may need to restart the kernel to use updated packages.\n"
     ]
    },
    {
     "name": "stderr",
     "output_type": "stream",
     "text": [
      "\n",
      "[notice] A new release of pip available: 22.2.2 -> 22.3.1\n",
      "[notice] To update, run: python.exe -m pip install --upgrade pip\n"
     ]
    }
   ],
   "source": [
    "%pip install MiniSom"
   ]
  },
  {
   "cell_type": "code",
   "execution_count": 30,
   "metadata": {},
   "outputs": [],
   "source": [
    "import numpy as np\n",
    "import pandas as pd\n",
    "import matplotlib.pyplot as plt"
   ]
  },
  {
   "cell_type": "code",
   "execution_count": 31,
   "metadata": {},
   "outputs": [],
   "source": [
    "dataset = pd.read_csv('preprocessed_data.csv')\n",
    "X = dataset.iloc[:, :-1].values \n",
    "y = dataset.iloc[:, -1].values"
   ]
  },
  {
   "cell_type": "code",
   "execution_count": 32,
   "metadata": {},
   "outputs": [],
   "source": [
    "from sklearn.preprocessing import MinMaxScaler\n",
    "sc = MinMaxScaler(feature_range = (0,1))\n",
    "X = sc.fit_transform(X)"
   ]
  },
  {
   "cell_type": "code",
   "execution_count": 33,
   "metadata": {},
   "outputs": [],
   "source": [
    "from minisom import MiniSom\n",
    "som = MiniSom(x=10, y=10, input_len= 15, sigma= 1.0, learning_rate = 0.5)\n",
    "som.random_weights_init(X)\n",
    "som.train_random(data = X, num_iteration = 100)"
   ]
  },
  {
   "cell_type": "code",
   "execution_count": 35,
   "metadata": {},
   "outputs": [],
   "source": [
    "mappings = som.win_map(X)\n",
    "preds = np.concatenate((mappings[(1,1)], mappings[(4,1)]), axis = 0)\n",
    "preds = sc.inverse_transform(preds)"
   ]
  },
  {
   "cell_type": "code",
   "execution_count": 36,
   "metadata": {},
   "outputs": [
    {
     "name": "stdout",
     "output_type": "stream",
     "text": [
      "The suitable cities to live\n",
      "28157\n",
      "28174\n",
      "28184\n",
      "28186\n",
      "28199\n",
      "28200\n",
      "28212\n",
      "28213\n",
      "28214\n",
      "28214\n",
      "28215\n",
      "28216\n",
      "28217\n",
      "28220\n",
      "28221\n",
      "28238\n",
      "28239\n",
      "28240\n",
      "28241\n",
      "28243\n",
      "28244\n",
      "28246\n",
      "28248\n",
      "28259\n",
      "28261\n",
      "28262\n",
      "28280\n",
      "28298\n",
      "28299\n",
      "28601\n",
      "28608\n",
      "28614\n",
      "28621\n",
      "28622\n",
      "28622\n",
      "28623\n",
      "28628\n",
      "28636\n",
      "28637\n",
      "28638\n",
      "28639\n",
      "28640\n",
      "28646\n",
      "28647\n",
      "28648\n",
      "28649\n",
      "28651\n",
      "28652\n",
      "28653\n",
      "28654\n",
      "28670\n",
      "28671\n",
      "28672\n",
      "28673\n",
      "28693\n",
      "28908\n",
      "28912\n",
      "28913\n",
      "28914\n",
      "28982\n",
      "28989\n",
      "28990\n",
      "29005\n",
      "29015\n",
      "29016\n",
      "29018\n",
      "29019\n",
      "29020\n",
      "29021\n",
      "29027\n",
      "29258\n",
      "29263\n",
      "29291\n",
      "29294\n",
      "29310\n",
      "29356\n",
      "29360\n",
      "29361\n",
      "2489\n",
      "2490\n",
      "2494\n",
      "2526\n",
      "2527\n",
      "2528\n",
      "2529\n",
      "2530\n",
      "2531\n",
      "2532\n",
      "2533\n",
      "2534\n",
      "2535\n",
      "3394\n",
      "3395\n"
     ]
    }
   ],
   "source": [
    "print('The suitable cities to live')\n",
    "for i in preds[:, 0]:\n",
    "  print(int(i))"
   ]
  }
 ],
 "metadata": {
  "kernelspec": {
   "display_name": "Python 3",
   "language": "python",
   "name": "python3"
  },
  "language_info": {
   "codemirror_mode": {
    "name": "ipython",
    "version": 3
   },
   "file_extension": ".py",
   "mimetype": "text/x-python",
   "name": "python",
   "nbconvert_exporter": "python",
   "pygments_lexer": "ipython3",
   "version": "3.9.11"
  },
  "orig_nbformat": 4,
  "vscode": {
   "interpreter": {
    "hash": "4ec41162722ab6218dcb511774264369501b5952b867717e39f000dae1029759"
   }
  }
 },
 "nbformat": 4,
 "nbformat_minor": 2
}
